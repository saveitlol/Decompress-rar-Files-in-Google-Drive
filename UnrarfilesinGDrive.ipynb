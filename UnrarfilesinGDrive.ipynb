{
  "nbformat": 4,
  "nbformat_minor": 0,
  "metadata": {
    "colab": {
      "name": "UnrarfilesinGDrive.ipynb",
      "provenance": []
    },
    "kernelspec": {
      "name": "python3",
      "display_name": "Python 3"
    },
    "language_info": {
      "name": "python"
    }
  },
  "cells": [
    {
      "cell_type": "markdown",
      "metadata": {
        "id": "TLyrWksdp7V0"
      },
      "source": [
        "<a href=\"https://colab.research.google.com/github/cheems/compress-decompress-in-Google-Drive/blob/master/Unrar_Unzip_Rar_Zip_in_GDrive.ipynb\" target=\"_parent\"><img src=\"https://colab.research.google.com/assets/colab-badge.svg\" alt=\"Open In Colab\"/></a>\n"
      ]
    },
    {
      "cell_type": "markdown",
      "metadata": {
        "id": "J6303ATlXJzX"
      },
      "source": [
        "# **<font color='blue'> Decompress Files rar in Google Drive - Created by [Saveitlol](https://github.com/saveitlol) </font>**\n"
      ]
    },
    {
      "cell_type": "markdown",
      "metadata": {
        "id": "xlvjXcmdXMfn"
      },
      "source": [
        "## **<font color=\"red\">Catatan penting</font> - Setelah melakukan semua langkah, harap diperhatikan bahwa tergantung pada ukuran file dari file Zip dan Rar Anda, mungkin perlu beberapa saat untuk muncul di Google Drive Anda. Harap bersabar. Akhirnya, itu akan muncul di drive Anda.**\n",
        "###**<font color=\"red\">Untuk file yang lebih besar</font> - mungkin perlu beberapa saat untuk muncul di Google Drive Anda. Jangan menjalankan ulang kode jika tidak muncul dengan cepat. Terus segarkan halaman Google Drive Anda untuk melihat apakah itu muncul**\n",
        "###**<font color=\"red\">Untuk file kecil</font> - ini akan muncul lebih cepat di Google Drive Anda. Tunggu saja sampai muncul. Terus segarkan halaman Anda untuk melihat apakah itu muncul**\n",
        "\n",
        "\n"
      ]
    },
    {
      "cell_type": "markdown",
      "metadata": {
        "id": "KK27PgUYY5YB"
      },
      "source": [
        "#__Mount GDrive to /content/drive__\n"
      ]
    },
    {
      "cell_type": "code",
      "metadata": {
        "cellView": "form",
        "id": "mZe8d-3YZBh_"
      },
      "source": [
        "\n",
        "#@markdown <br><center><img src='https://upload.wikimedia.org/wikipedia/commons/thumb/d/da/Google_Drive_logo.png/600px-Google_Drive_logo.png' height=\"50\" alt=\"Gdrive-logo\"/></center>\n",
        "#@markdown <center><h3>Mount GDrive to /content/drive</h3></center><br>\n",
        "MODE = \"MOUNT\" #@param [\"MOUNT\", \"UNMOUNT\"]\n",
        "#Mount your Gdrive! \n",
        "from google.colab import drive\n",
        "drive.mount._DEBUG = False\n",
        "if MODE == \"MOUNT\":\n",
        "  drive.mount('/content/drive', force_remount=True)\n",
        "elif MODE == \"UNMOUNT\":\n",
        "  try:\n",
        "    drive.flush_and_unmount()\n",
        "  except ValueError:\n",
        "    pass\n",
        "  get_ipython().system_raw(\"rm -rf /root/.config/Google/DriveFS\")"
      ],
      "execution_count": null,
      "outputs": []
    },
    {
      "cell_type": "markdown",
      "metadata": {
        "id": "knueyRbBZuUi"
      },
      "source": [
        "##__Unrar Files</center>__"
      ]
    },
    {
      "cell_type": "markdown",
      "metadata": {
        "id": "1L2Wo-FXZ0sW"
      },
      "source": [
        "EN\n",
        "*   First path in below cell - Your Google Drive file location which you want to Unrar\n",
        "*   Second path in below cell - Path where you want to extract the rar file in Google Drive\n",
        "\n",
        "ID\n",
        "* Jalur pertama di bawah sel - Lokasi file Google Drive Anda yang ingin Anda Unrar\n",
        "* Jalur kedua di bawah sel - Jalur tempat Anda ingin mengekstrak file rar di Google Drive \n",
        "\n",
        "EN\n",
        "*If you want to extract a password protected rar file, then add \"-Y\" flag or Use this command instead of the command in the cell\n",
        "(replace the command with the command in the cell)*\n",
        "\n",
        "ID\n",
        "*Jika Anda ingin mengekstrak file rar yang dilindungi kata sandi, tambahkan tanda \"-Y\" atau Gunakan perintah ini sebagai ganti perintah di sel\n",
        "(ganti perintah dengan perintah di sel)*\n",
        "\n",
        "\n",
        "- Dibawah ini adalah perintah sel - Below are the cell commands \n",
        "* ```\n",
        "!unrar x -Y \"First path in below cell\" \"Second path\"\n",
        "```\n",
        "\n",
        "\n",
        "\n"
      ]
    },
    {
      "cell_type": "code",
      "metadata": {
        "id": "eAi-thzuZ1-s"
      },
      "source": [
        "!unrar x \"/content/drive/path/input_file_name.rar\" \"/content/drive/path/output_folder/\""
      ],
      "execution_count": null,
      "outputs": []
    }
  ]
}